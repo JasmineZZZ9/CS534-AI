
The folder 'Modules' is derived from the code repository of the text book.
I changed a little bit of the class and def.

The file 'implement_agent.py' is written for this assignment.

To measure the performance, since there is no require of running time or any
I set environment.run(5) to get the performance score.